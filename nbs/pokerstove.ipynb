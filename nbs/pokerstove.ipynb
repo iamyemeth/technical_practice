{
 "cells": [
  {
   "cell_type": "markdown",
   "metadata": {},
   "source": [
    "In a previous life I used to play poker for a living and in the early I used a tool called PokerStove a lot to understand all in pre-flop probabilities. \n",
    "\n",
    "After exploring the tool for a while you start to get a rough idea of your odds of certain kinds of hands, e.g. a pair vs two overcards (~50/50), a dominated hand (~70/30), a pair vs an overpair (~80/20) and so on.\n",
    "\n",
    "I think part of what makes computers interesting is the ability to use computation to solve problems we couldn't easily solve by hand or with other tools. This notebook is a study in calculating probabilities of poker hands preflop from first principles."
   ]
  },
  {
   "cell_type": "markdown",
   "metadata": {},
   "source": [
    "I find when starting an exploration having a concrete goal in mind is useful to get started, so for this study I want to calculate the probabilities of a 3-way all in between `2c2d`, `9h10h` and `AcKs`.\n",
    "\n",
    "My thinking is that we need a way to calculate the rank of the strongest 5 cards of a 7 card hand (2 hole cards + 5 from the board). Once we can do this we start with the above hands drawn, shuffle the rest of the deck and repeatedly draw the 5 card board and calculate the who wins/ties/loses and then tally them up over a number of iterations (technically called Monte Carlo simulation?)."
   ]
  },
  {
   "cell_type": "markdown",
   "metadata": {},
   "source": [
    "To start we need to a representation of a card, a hand and a deck. We've got a bunch of choices here:\n",
    "1. A Card is represented by object consisting of a Rank (e.g. ACE, JACK, TWO) and a Suit (e.g. HEARTS, CLUBS). A Hand is an array of Cards, and a Deck is a array of Cards\n",
    "2. A Card is represented by a number from 0-53. A Hand is an Array of Cards. A Deck is an array of Cards\n",
    "3. A Card is represented as a bit in a bitset which represents a Hand. A full bitset or an array of single bit bitsets could represent a Deck.\n",
    "\n",
    "These representations have different pros and cons but for now I'm going to start with option 2"
   ]
  },
  {
   "cell_type": "code",
   "execution_count": 24,
   "metadata": {},
   "outputs": [],
   "source": [
    "from enum import IntEnum, auto\n",
    "\n",
    "class Rank(IntEnum):\n",
    "    ACE = 0\n",
    "    TWO = auto()\n",
    "    THREE = auto()\n",
    "    FOUR = auto()\n",
    "    FIVE = auto()\n",
    "    SIX = auto()\n",
    "    SEVEN = auto()\n",
    "    EIGHT = auto()\n",
    "    NINE = auto()\n",
    "    TEN = auto()\n",
    "    JACK = auto()\n",
    "    QUEEN = auto()\n",
    "    KING = auto()\n"
   ]
  },
  {
   "cell_type": "code",
   "execution_count": 36,
   "metadata": {},
   "outputs": [],
   "source": [
    "\n",
    "class Suit(IntEnum):\n",
    "    CLUBS = 0\n",
    "    DIAMONDS = auto()\n",
    "    HEARTS = auto()\n",
    "    SPADES = auto()"
   ]
  },
  {
   "cell_type": "code",
   "execution_count": 37,
   "metadata": {},
   "outputs": [],
   "source": [
    "from enum import IntEnum, auto\n",
    "\n",
    "class Card(IntEnum):\n",
    "    ACE_CLUBS = 0\n",
    "    TWO_CLUBS = auto()\n",
    "    THREE_CLUBS = auto()\n",
    "    FOUR_CLUBS = auto()\n",
    "    FIVE_CLUBS = auto()\n",
    "    SIX_CLUBS = auto()\n",
    "    SEVEN_CLUBS = auto()\n",
    "    EIGHT_CLUBS = auto()\n",
    "    NINE_CLUBS = auto()\n",
    "    TEN_CLUBS = auto()\n",
    "    JACK_CLUBS = auto()\n",
    "    QUEEN_CLUBS = auto()\n",
    "    KING_CLUBS = auto()\n",
    "    ACE_DIAMONDS = auto()\n",
    "    TWO_DIAMONDS = auto()\n",
    "    THREE_DIAMONDS = auto()\n",
    "    FOUR_DIAMONDS = auto()\n",
    "    FIVE_DIAMONDS = auto()\n",
    "    SIX_DIAMONDS = auto()\n",
    "    SEVEN_DIAMONDS = auto()\n",
    "    EIGHT_DIAMONDS = auto()\n",
    "    NINE_DIAMONDS = auto()\n",
    "    TEN_DIAMONDS = auto()\n",
    "    JACK_DIAMONDS = auto()\n",
    "    QUEEN_DIAMONDS = auto()\n",
    "    KING_DIAMONDS = auto()\n",
    "    ACE_HEARTS = auto()\n",
    "    TWO_HEARTS = auto()\n",
    "    THREE_HEARTS = auto()\n",
    "    FOUR_HEARTS = auto()\n",
    "    FIVE_HEARTS = auto()\n",
    "    SIX_HEARTS = auto()\n",
    "    SEVEN_HEARTS = auto()\n",
    "    EIGHT_HEARTS = auto()\n",
    "    NINE_HEARTS = auto()\n",
    "    TEN_HEARTS = auto()\n",
    "    JACK_HEARTS = auto()\n",
    "    QUEEN_HEARTS = auto()\n",
    "    KING_HEARTS = auto()\n",
    "    ACE_SPADES = auto()\n",
    "    TWO_SPADES = auto()\n",
    "    THREE_SPADES = auto()\n",
    "    FOUR_SPADES = auto()\n",
    "    FIVE_SPADES = auto()\n",
    "    SIX_SPADES = auto()\n",
    "    SEVEN_SPADES = auto()\n",
    "    EIGHT_SPADES = auto()\n",
    "    NINE_SPADES = auto()\n",
    "    TEN_SPADES = auto()\n",
    "    JACK_SPADES = auto()\n",
    "    QUEEN_SPADES = auto()\n",
    "    KING_SPADES = auto()\n",
    "\n",
    "    def rank(self):\n",
    "        return Rank(self.value % 13)\n",
    "    \n",
    "    def suit(self):\n",
    "        return Suit(self.value % 4)\n",
    "    \n",
    "# Interestingly we could also generate the enum like this:\n",
    "# Card = IntEnum('Card', [f\"{rank}_{suit}\" for rank, suit in itertools.product(Rank.__members__, Suit.__members__)])"
   ]
  },
  {
   "cell_type": "code",
   "execution_count": 17,
   "metadata": {},
   "outputs": [
    {
     "data": {
      "text/plain": [
       "0"
      ]
     },
     "execution_count": 17,
     "metadata": {},
     "output_type": "execute_result"
    }
   ],
   "source": [
    "[Card(i) for i in range(52)]"
   ]
  },
  {
   "cell_type": "code",
   "execution_count": 41,
   "metadata": {},
   "outputs": [],
   "source": [
    "def test_rank():\n",
    "    assert(Card.ACE_CLUBS.rank() == Card.ACE_DIAMONDS.rank())\n",
    "    assert(Card.ACE_DIAMONDS.rank() == Card.ACE_HEARTS.rank())\n",
    "    assert(Card.ACE_HEARTS.rank() == Card.ACE_SPADES.rank())\n",
    "\n",
    "    assert(Card.KING_CLUBS.rank() == Card.KING_DIAMONDS.rank())\n",
    "    assert(Card.KING_DIAMONDS.rank() == Card.KING_HEARTS.rank())\n",
    "    assert(Card.KING_HEARTS.rank() == Card.KING_SPADES.rank())\n",
    "\n",
    "test_rank()"
   ]
  },
  {
   "cell_type": "code",
   "execution_count": 45,
   "metadata": {},
   "outputs": [],
   "source": [
    "def test_suit():\n",
    "    assert(Card.ACE_CLUBS.suit() == Card.KING_CLUBS.suit())\n",
    "    assert(Card.ACE_DIAMONDS.suit() == Card.KING_DIAMONDS.suit())\n",
    "    assert(Card.ACE_HEARTS.suit() == Card.KING_HEARTS.suit())\n",
    "    assert(Card.ACE_SPADES.suit() == Card.KING_SPADES.suit())\n",
    "\n",
    "test_suit()"
   ]
  },
  {
   "cell_type": "markdown",
   "metadata": {},
   "source": [
    "So now we have a way to represent a Rank, Suit, Card, Hand and Deck. What we need next is a way to calculate the HandRank. In poker the hand ranks are as follows:\n",
    "1. Straight flush\n",
    "2. Four of a kind\n",
    "3. Full house\n",
    "4. Flush\n",
    "5. Straight\n",
    "6. Three of a kind\n",
    "7. Two pair\n",
    "8. One pair\n",
    "9. High card"
   ]
  },
  {
   "cell_type": "code",
   "execution_count": null,
   "metadata": {},
   "outputs": [],
   "source": [
    "hand = [Card.ACE_CLUBS, Card.JACK_CLUBS, Card.QUEEN_CLUBS, Card.TWO_CLUBS, Card.QUEEN_CLUBS, Card.ACE_DIAMONDS, Card.TWO_HEARTS]"
   ]
  }
 ],
 "metadata": {
  "kernelspec": {
   "display_name": "technical_practice",
   "language": "python",
   "name": "python3"
  },
  "language_info": {
   "codemirror_mode": {
    "name": "ipython",
    "version": 3
   },
   "file_extension": ".py",
   "mimetype": "text/x-python",
   "name": "python",
   "nbconvert_exporter": "python",
   "pygments_lexer": "ipython3",
   "version": "3.12.0"
  }
 },
 "nbformat": 4,
 "nbformat_minor": 2
}
